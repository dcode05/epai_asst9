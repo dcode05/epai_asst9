{
  "nbformat": 4,
  "nbformat_minor": 0,
  "metadata": {
    "colab": {
      "name": "Assignment9:ques1.ipynb",
      "provenance": []
    },
    "kernelspec": {
      "name": "python3",
      "display_name": "Python 3"
    },
    "language_info": {
      "name": "python"
    }
  },
  "cells": [
    {
      "cell_type": "code",
      "metadata": {
        "id": "5GYdjd3-FK6U"
      },
      "source": [
        ""
      ],
      "execution_count": null,
      "outputs": []
    },
    {
      "cell_type": "markdown",
      "metadata": {
        "id": "1Epsj05In_FI"
      },
      "source": [
        "# 9th July --- Friday---- Assignment 9---- \n",
        "question1."
      ]
    },
    {
      "cell_type": "markdown",
      "metadata": {
        "id": "iBZudCQGoUob"
      },
      "source": [
        "Q-1> Use the Faker (Links to an external site.)library to get 10000 random profiles. Using namedtuple, calculate the largest blood type, mean-current_location, oldest_person_age, and average age (add proper doc-strings).\n",
        "\n",
        "Q-2>> Do the same thing above using a dictionary. Prove that namedtuple is faster.\n"
      ]
    },
    {
      "cell_type": "code",
      "metadata": {
        "id": "SLZnmp-BoO0J",
        "colab": {
          "base_uri": "https://localhost:8080/"
        },
        "outputId": "ee7d2fbb-88d8-4057-9185-eb43ff5b69cd"
      },
      "source": [
        "!pip install Faker\n",
        "\n",
        "\n",
        "from collections import namedtuple\n",
        "from faker import Faker\n",
        "\n"
      ],
      "execution_count": null,
      "outputs": [
        {
          "output_type": "stream",
          "text": [
            "Collecting Faker\n",
            "\u001b[?25l  Downloading https://files.pythonhosted.org/packages/e4/be/d03e305f1d879f541c23d586023ec11b124d6cc3d75a95159470754134d9/Faker-8.10.0-py3-none-any.whl (1.2MB)\n",
            "\u001b[K     |████████████████████████████████| 1.2MB 5.0MB/s \n",
            "\u001b[?25hRequirement already satisfied: text-unidecode==1.3 in /usr/local/lib/python3.7/dist-packages (from Faker) (1.3)\n",
            "Requirement already satisfied: python-dateutil>=2.4 in /usr/local/lib/python3.7/dist-packages (from Faker) (2.8.1)\n",
            "Requirement already satisfied: six>=1.5 in /usr/local/lib/python3.7/dist-packages (from python-dateutil>=2.4->Faker) (1.15.0)\n",
            "Installing collected packages: Faker\n",
            "Successfully installed Faker-8.10.0\n"
          ],
          "name": "stdout"
        }
      ]
    },
    {
      "cell_type": "code",
      "metadata": {
        "colab": {
          "base_uri": "https://localhost:8080/"
        },
        "id": "O9ZCXJ2Jr4I4",
        "outputId": "45a9196a-c15c-4e8b-b48b-a24d1d40a5da"
      },
      "source": [
        "Faker.seed(0)\n",
        "fake = Faker()\n",
        "\n",
        "fp={}                            # declared a dic\n",
        "profile_count=10_000\n",
        "\n",
        "for i in range(profile_count):\n",
        "  fp[i]=fake.profile()           # output dict\n",
        "\n",
        "print(type(fp))\n"
      ],
      "execution_count": null,
      "outputs": [
        {
          "output_type": "stream",
          "text": [
            "<class 'dict'>\n"
          ],
          "name": "stdout"
        }
      ]
    },
    {
      "cell_type": "code",
      "metadata": {
        "id": "7LQNcWgPogZg"
      },
      "source": [
        "# step1 -  create a namedtuple header/ key/ name\n",
        "# step2 -  write algo to take all values from dict to namedtuple\n",
        "# step3 -  merge all namedtuples into 1 tuple\n",
        "# step4 -  start calculation : alculate the largest blood type, mean-current_location, oldest_person_age, and average age"
      ],
      "execution_count": null,
      "outputs": []
    },
    {
      "cell_type": "code",
      "metadata": {
        "colab": {
          "base_uri": "https://localhost:8080/"
        },
        "id": "MuFX5_RyqOyr",
        "outputId": "dee12fc1-118a-40a3-9ddd-ca0937bf4d7d"
      },
      "source": [
        "# step 1\n",
        "fake_profilex = namedtuple('fake_profiley', sorted(fp[0].keys()))\n",
        "print(fake_profilex._fields)\n",
        "# print(type(fake_profilex))     <class 'type'>        tuple\n",
        "# print (fp[0].keys())\n",
        "print(len(fake_profilex._fields))\n"
      ],
      "execution_count": null,
      "outputs": [
        {
          "output_type": "stream",
          "text": [
            "('address', 'birthdate', 'blood_group', 'company', 'current_location', 'job', 'mail', 'name', 'residence', 'sex', 'ssn', 'username', 'website')\n",
            "13\n"
          ],
          "name": "stdout"
        }
      ]
    },
    {
      "cell_type": "code",
      "metadata": {
        "colab": {
          "base_uri": "https://localhost:8080/"
        },
        "id": "Nik09iHCuBSN",
        "outputId": "1f388e7f-5259-4476-e61a-56345d2f51a0"
      },
      "source": [
        "# step 2 write algo to take all values from dict to namedtuple\n",
        " \n",
        "fake_profile_tuple={}    #-------> defined/initialized as dict\n",
        "\n",
        "for i in range (profile_count):\n",
        "  fake_profile_tuple[i] = fake_profilex(**fp[i])\n",
        "  print(fake_profile_tuple[i])                    # tuple\n",
        "\n",
        "# type(fake_profile_tuple) ----> dict\n",
        "type(fake_profile_tuple[0]) #----> tuple"
      ],
      "execution_count": null,
      "outputs": [
        {
          "output_type": "stream",
          "text": [
            "fake_profiley(address='711 Golden Overpass\\nWest Andreaville, MA 71317', birthdate=datetime.date(1944, 9, 1), blood_group='B+', company='Williams-Sheppard', current_location=(Decimal('52.958961'), Decimal('143.143712')), job='Musician', mail='tamaramorrison@hotmail.com', name='Gary Cross', residence='Unit 5938 Box 2421\\nDPO AP 33335', sex='M', ssn='498-52-4970', username='leeashley', website=['http://www.rivera.com/', 'http://grimes-green.net/', 'http://www.larsen.com/'])\n",
            "fake_profiley(address='30989 Anthony Roads\\nNew Maria, MO 12498', birthdate=datetime.date(1908, 6, 18), blood_group='AB+', company='Carlson Group', current_location=(Decimal('15.037732'), Decimal('101.628490')), job='Producer, television/film/video', mail='martha10@hotmail.com', name='Denise Thornton', residence='09471 Erika Curve\\nNorth Megan, UT 71358', sex='F', ssn='325-74-3967', username='laura56', website=['http://hill.com/', 'http://wilson.com/'])\n",
            "fake_profiley(address='22584 Candice Mills\\nNorth Thomas, OK 67164', birthdate=datetime.date(1981, 10, 25), blood_group='B-', company='Robbins Group', current_location=(Decimal('-20.228286'), Decimal('-142.416727')), job='Engineer, broadcasting (operations)', mail='deborah64@gmail.com', name='Jeanne Green', residence='USS Stephens\\nFPO AP 13804', sex='F', ssn='216-94-1001', username='kmassey', website=['https://white-gordon.com/'])\n",
            "fake_profiley(address='63812 Richard Springs Suite 503\\nLake Karenhaven, CT 25464', birthdate=datetime.date(1943, 8, 17), blood_group='O+', company='Harmon-Rogers', current_location=(Decimal('30.2954115'), Decimal('23.285134')), job='Administrator, charities/voluntary organisations', mail='franklinjames@yahoo.com', name='John Hoffman', residence='9459 Jennifer Loaf Suite 109\\nLake Matthew, IN 84046', sex='M', ssn='047-70-4602', username='hensontroy', website=['https://fletcher.com/'])\n",
            "fake_profiley(address='87755 Timothy Squares\\nSimmonsport, WA 90561', birthdate=datetime.date(2015, 3, 26), blood_group='O-', company='Alvarez Group', current_location=(Decimal('73.100442'), Decimal('171.844720')), job='Education officer, environmental', mail='samanthasims@yahoo.com', name='Timothy Parker', residence='42851 Joshua Brook Apt. 034\\nStaceyshire, AZ 98691', sex='M', ssn='643-11-0358', username='turnermary', website=['https://thompson.com/', 'http://morgan-richardson.com/', 'https://www.nelson.org/', 'https://hays-anderson.com/'])\n",
            "fake_profiley(address='577 Amy Forges Apt. 555\\nNew Eddieview, WY 20935', birthdate=datetime.date(2015, 5, 11), blood_group='B-', company='Morton and Sons', current_location=(Decimal('-45.2837235'), Decimal('51.510024')), job='Chartered loss adjuster', mail='taguilar@hotmail.com', name='Linda Freeman', residence='8847 Kramer Station\\nSouth Christopher, KS 77208', sex='F', ssn='768-29-1002', username='blittle', website=['http://www.johnson.com/', 'http://scott-davidson.com/', 'http://www.ellis.net/'])\n",
            "fake_profiley(address='256 Cheryl Lights\\nWilliamsfort, FL 03152', birthdate=datetime.date(1919, 11, 7), blood_group='A-', company='Marsh PLC', current_location=(Decimal('-65.6671615'), Decimal('98.098248')), job='Psychotherapist, dance movement', mail='georgedavid@yahoo.com', name='Sandra Brown', residence='0752 Misty Mount\\nWilliamhaven, AZ 75719', sex='F', ssn='890-06-1088', username='olsondonald', website=['http://santana.biz/', 'http://www.mcclure.org/', 'https://snyder.com/', 'https://brown-davidson.com/'])\n",
            "fake_profiley(address='16116 Jessica Burgs Suite 660\\nCalhounmouth, KS 10795', birthdate=datetime.date(1952, 11, 12), blood_group='AB-', company='Reed, Reyes and Frank', current_location=(Decimal('-38.869070'), Decimal('64.528721')), job='Stage manager', mail='chad50@yahoo.com', name='Paula Wilkerson', residence='519 Kramer Crossroad Suite 418\\nNorth Kimberly, MN 99672', sex='F', ssn='503-15-0986', username='hhunter', website=['http://www.scott-johnson.net/'])\n",
            "fake_profiley(address='332 Watson Shore Apt. 290\\nMillerland, MT 39742', birthdate=datetime.date(1962, 12, 24), blood_group='B+', company='Greer and Sons', current_location=(Decimal('2.462487'), Decimal('-41.369813')), job='Editor, magazine features', mail='jyang@hotmail.com', name='Willie Garcia', residence='03104 Norris Rapids\\nPort Donald, DE 62982', sex='M', ssn='839-47-1156', username='eric22', website=['http://kennedy-carter.net/'])\n"
          ],
          "name": "stdout"
        },
        {
          "output_type": "execute_result",
          "data": {
            "text/plain": [
              "__main__.fake_profiley"
            ]
          },
          "metadata": {
            "tags": []
          },
          "execution_count": 214
        }
      ]
    },
    {
      "cell_type": "code",
      "metadata": {
        "colab": {
          "base_uri": "https://localhost:8080/"
        },
        "id": "3jTBYpilbCH7",
        "outputId": "73cde78d-5f34-471a-bb86-92cd130d23b2"
      },
      "source": [
        "# # step3 -  merge all namedtuples and start calculation: largest blood type, mean-current_location, oldest_person_age, and average age\n",
        "            # trying to add 10_000 tuples in a single tuple by iteration\n",
        "            # fake_profile_tuple[i]   current tuple\n",
        "\n",
        "#------------------------------  WORKS !!! WOOHOOO------------\n",
        "tuple_merged= ()\n",
        "\n",
        "for i in range(profile_count):\n",
        "  tuple_merged= tuple_merged+ (fake_profile_tuple[i],)\n",
        "print(type(tuple_merged))                             # TUPLE\n",
        "print(len(tuple_merged))                              # 5"
      ],
      "execution_count": null,
      "outputs": [
        {
          "output_type": "stream",
          "text": [
            "<class 'tuple'>\n",
            "9\n"
          ],
          "name": "stdout"
        }
      ]
    },
    {
      "cell_type": "code",
      "metadata": {
        "colab": {
          "base_uri": "https://localhost:8080/"
        },
        "id": "OvcJmX5sJxht",
        "outputId": "39c2d374-d004-4cb7-cca3-068747134153"
      },
      "source": [
        "# step4 -  start calculation : calculate the largest blood type, mean-current_location, oldest_person_age, and average age\n",
        "\n",
        "          # calculation1: oldest person age\n",
        "\n",
        "'''-------------------------  WORKS !!!!! :D ----------------------------------------------'''\n",
        "\n",
        "from time import perf_counter\n",
        "\n",
        "start= perf_counter()\n",
        "# birthdates = tuple([t[1] for t in tuple_merged])    # give tuple of bithdates of all profiles \n",
        "birthdates = [t[1] for t in tuple_merged]               # give list of bithdates of all profiles ----> faster than tuple\n",
        "oldest=min( birthdates )\n",
        "age_oldest= datetime.date.today() - oldest          # type: datetime.timedelta\n",
        "end=perf_counter()\n",
        "timetaken= end- start\n",
        "\n",
        "index_oldest=birthdates.index(oldest)\n",
        "oldest_person=tuple_merged[index_oldest][7]\n",
        "\n",
        "print('bithdates',birthdates)\n",
        "print('oldest', oldest)\n",
        "print('age_oldest',age_oldest)\n",
        "print('timetaken',timetaken )\n",
        "print('oldest person is', oldest_person)"
      ],
      "execution_count": null,
      "outputs": [
        {
          "output_type": "stream",
          "text": [
            "bithdates [datetime.date(1944, 9, 1), datetime.date(1908, 6, 18), datetime.date(1981, 10, 25), datetime.date(1943, 8, 17), datetime.date(2015, 3, 26), datetime.date(2015, 5, 11), datetime.date(1919, 11, 7), datetime.date(1952, 11, 12), datetime.date(1962, 12, 24)]\n",
            "oldest 1908-06-18\n",
            "age_oldest 41294 days, 0:00:00\n",
            "timetaken 0.00012036599946441129\n",
            "oldest person is Denise Thornton\n"
          ],
          "name": "stdout"
        }
      ]
    },
    {
      "cell_type": "code",
      "metadata": {
        "colab": {
          "base_uri": "https://localhost:8080/"
        },
        "id": "sKXXZflyZLQP",
        "outputId": "8a1431f3-983c-4d2b-ab83-235c6e7ce7ec"
      },
      "source": [
        "#calculation2: average age calculation\n",
        "\n",
        "age= [(datetime.date.today()-t[1]) for t in tuple_merged] \n",
        "age_total= age[0]\n",
        "for i in range(profile_count-1):\n",
        "  age_total+= age[i+1]\n",
        "age_average= age_total/ len(age)       # type:   datetime.timedelta\n",
        "print('age_average',age_average)\n"
      ],
      "execution_count": null,
      "outputs": [
        {
          "output_type": "stream",
          "text": [
            "age_average 22273 days, 2:40:00\n"
          ],
          "name": "stdout"
        }
      ]
    },
    {
      "cell_type": "code",
      "metadata": {
        "colab": {
          "base_uri": "https://localhost:8080/"
        },
        "id": "fnlh08Ro4rLE",
        "outputId": "2637aee9-3dcc-4c26-dd4f-8263c9c24682"
      },
      "source": [
        "#calculation3: largest blood type-- METHOD2\n",
        "def most_frequent(bloodtype):\n",
        "    return max(set(bloodtype), key = bloodtype.count)\n",
        "  \n",
        "print(most_frequent(bloodtype))"
      ],
      "execution_count": null,
      "outputs": [
        {
          "output_type": "stream",
          "text": [
            "B+\n"
          ],
          "name": "stdout"
        }
      ]
    },
    {
      "cell_type": "code",
      "metadata": {
        "colab": {
          "base_uri": "https://localhost:8080/"
        },
        "id": "7xxkyopOPis5",
        "outputId": "42217975-4d6c-4f71-e841-31add7bef1d9"
      },
      "source": [
        "#calculation4: mean-current_location\n",
        "\n",
        "current_location = [t[4] for t in tuple_merged] \n",
        "mean_location= sum(t[0] for t in current_location)/profile_count, sum(t[1] for t in current_location)/profile_count\n",
        "print('mean_location is ', mean_location)"
      ],
      "execution_count": null,
      "outputs": [
        {
          "output_type": "stream",
          "text": [
            "mean_location is  (Decimal('30.2328521'), Decimal('59.4970658'))\n"
          ],
          "name": "stdout"
        }
      ]
    }
  ]
}