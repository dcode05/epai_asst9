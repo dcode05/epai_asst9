{
  "nbformat": 4,
  "nbformat_minor": 0,
  "metadata": {
    "colab": {
      "name": "Assignment9:ques3.ipynb",
      "provenance": []
    },
    "kernelspec": {
      "name": "python3",
      "display_name": "Python 3"
    },
    "language_info": {
      "name": "python"
    }
  },
  "cells": [
    {
      "cell_type": "markdown",
      "metadata": {
        "id": "BeJ6tU5NirWc"
      },
      "source": [
        "## Question:  Create fake data (you can use Faker for company names)for imaginary stock exchange for top 100 companies (name,symbol, open, high, close). Assign a random weight to all the companies. Calculate and show what value the stock market started at, what was the highest value during the day, and where did it end. Make sure your open, high, close are not totally random. You can only use namedtuple."
      ]
    },
    {
      "cell_type": "markdown",
      "metadata": {
        "id": "hi6sW-BXl8oO"
      },
      "source": [
        "steps:\n",
        "1. download and store company names\n",
        "2. infer company symbols from company names\n",
        "3. make a list of weight, open, high, close\n",
        "4. unpack symbol list and data list into the stock namedtuple\n",
        "5. perform required calculations\n",
        "    1. starting value of stock market\n",
        "    2. highest value of stock market\n",
        "    3. ending value of stock market"
      ]
    },
    {
      "cell_type": "code",
      "metadata": {
        "colab": {
          "base_uri": "https://localhost:8080/"
        },
        "id": "cdWjoql5mb8D",
        "outputId": "bfd0f2a1-632e-469f-9d90-d2ae7e29ab21"
      },
      "source": [
        "from time import perf_counter\n",
        "start= perf_counter()\n",
        "\n",
        "from collections import namedtuple\n",
        "stock= namedtuple('stock', 'symbol,weight, open, high, close')\n",
        "print(stock._fields)"
      ],
      "execution_count": 148,
      "outputs": [
        {
          "output_type": "stream",
          "text": [
            "('symbol', 'weight', 'open', 'high', 'close')\n"
          ],
          "name": "stdout"
        }
      ]
    },
    {
      "cell_type": "code",
      "metadata": {
        "colab": {
          "base_uri": "https://localhost:8080/"
        },
        "id": "3b45zSud1rmF",
        "outputId": "aedda0b4-f86d-49ed-a56f-981a46d4ace7"
      },
      "source": [
        "!pip install Faker\n",
        "\n",
        "\n",
        "from collections import namedtuple\n",
        "from faker import Faker\n"
      ],
      "execution_count": 149,
      "outputs": [
        {
          "output_type": "stream",
          "text": [
            "Requirement already satisfied: Faker in /usr/local/lib/python3.7/dist-packages (8.10.0)\n",
            "Requirement already satisfied: python-dateutil>=2.4 in /usr/local/lib/python3.7/dist-packages (from Faker) (2.8.1)\n",
            "Requirement already satisfied: text-unidecode==1.3 in /usr/local/lib/python3.7/dist-packages (from Faker) (1.3)\n",
            "Requirement already satisfied: six>=1.5 in /usr/local/lib/python3.7/dist-packages (from python-dateutil>=2.4->Faker) (1.15.0)\n"
          ],
          "name": "stdout"
        }
      ]
    },
    {
      "cell_type": "code",
      "metadata": {
        "colab": {
          "base_uri": "https://localhost:8080/"
        },
        "id": "fd-bl1Jd1mI7",
        "outputId": "7736a622-948b-40d2-f487-97d13e0c5fd9"
      },
      "source": [
        "# step1: store company names in a list\n",
        "Faker.seed(0)\n",
        "fake = Faker()\n",
        "\n",
        "comp_name=list()                            # declared a dic\n",
        "company_count=100\n",
        "\n",
        "for _ in range(company_count):\n",
        "  comp_name.append( fake.company())\n",
        "  # print(comp_name)\n",
        "\n",
        "print(type(comp_name))\n",
        "print(comp_name)"
      ],
      "execution_count": 150,
      "outputs": [
        {
          "output_type": "stream",
          "text": [
            "<class 'list'>\n",
            "['Chang-Fisher', 'Sheppard-Tucker', 'Faulkner-Howard', 'Wagner LLC', 'Campos PLC', 'Archer-Patel', 'Patrick, Barrera and Collins', 'Jones, Jefferson and Rivera', 'Garcia, Hamilton and Carr', 'Levy Group', 'Grimes-Green', 'Moon, Davis and Larsen', 'Summers, Barnett and Smith', 'Clayton-Cook', 'Nguyen, Harrell and Lee', 'Walker, Pratt and Thomas', 'West, Miller and Flores', 'Bolton, Burns and Turner', 'Mann-Kelley', 'Harris, Lloyd and Payne', 'Wallace-Carlson', 'Stewart-Allen', 'Lopez and Sons', 'Salazar Ltd', 'Alvarez-Davis', 'Mcdowell Inc', 'Villanueva PLC', 'Myers, Thornton and Hill', 'Atkinson Ltd', 'Bryan, Barnes and Hill', 'Keller-Davies', 'Miller-Salazar', 'Matthews-Rogers', 'Sanchez Ltd', 'Wilson-Robinson', 'Cook Inc', 'Logan Ltd', 'Williams PLC', 'Kent, Ferguson and Becker', 'Martinez and Sons', 'Greer, Wilson and Davis', 'Johnson Inc', 'Woodward and Sons', 'Martinez, Clark and Owen', 'Johnson, Coleman and Garcia', 'Jones-Jones', 'Bell-White', 'Mcdonald, Carlson and Lyons', 'Gonzalez-Howard', 'Harrison, Barrera and Hudson', 'Chambers, Levy and Brown', 'Moore, Martin and Moreno', 'Carlson Group', 'Thompson, Ruiz and Ortiz', 'Golden, Lowery and Banks', 'Monroe-King', 'Vazquez, Ellis and Miller', 'Williams, Campbell and Allen', 'Bell-Roberts', 'Garza-Mcclain', 'Anderson, Collins and Goodman', 'Miller, Wheeler and Hale', 'Allen Ltd', 'Gray-Hutchinson', 'Baxter, Johnson and Savage', 'Barnes, Bates and Williams', 'Brown-Miles', 'Rose-Freeman', 'Munoz, Smith and Williams', 'Collins-Owens', 'Lopez-Key', 'Irwin, Monroe and Anderson', 'Morales Ltd', 'Stewart-Lewis', 'Fischer, Baird and Lowe', 'Davis, Wilson and Banks', 'Ramirez-Good', 'Alvarez Group', 'Miller, Hill and Chavez', 'Callahan and Sons', 'Meyer, Curtis and Reed', 'Ramirez Inc', 'Williams Ltd', 'Grant-Potts', 'Browning, Williams and Curry', 'Lawson, Simpson and Schneider', 'Bowman-Watson', 'Thompson, Bennett and Carter', 'Hernandez LLC', 'Clarke-Higgins', 'Chan-Johnson', 'Martin-Holden', 'Ward-Hays', 'Carter Group', 'Allen, Williams and White', 'Chandler, Turner and Houston', 'Perry-Garcia', 'Wells-Randall', 'Martinez-Wilson', 'Simmons-Turner']\n"
          ],
          "name": "stdout"
        }
      ]
    },
    {
      "cell_type": "code",
      "metadata": {
        "colab": {
          "base_uri": "https://localhost:8080/"
        },
        "id": "BIdkPnyf32Le",
        "outputId": "b19e0b20-4ba5-467b-c485-dbfea51840f0"
      },
      "source": [
        "# step 2: store the stock symbols in another list\n",
        "\n",
        "comp_name_sym= list()\n",
        "                                              # comp_name_sym= [t for t in comp_name]      ----> corrent for a string, int, tuple etc.  but if each elment is itself a list then need to write t[0]\n",
        "comp_name_sym= [[t[0:3]] for t in comp_name]\n",
        "print(comp_name_sym)\n",
        "print(type(comp_name_sym[0]))\n",
        "print(len((comp_name_sym[0])))\n"
      ],
      "execution_count": 151,
      "outputs": [
        {
          "output_type": "stream",
          "text": [
            "[['Cha'], ['She'], ['Fau'], ['Wag'], ['Cam'], ['Arc'], ['Pat'], ['Jon'], ['Gar'], ['Lev'], ['Gri'], ['Moo'], ['Sum'], ['Cla'], ['Ngu'], ['Wal'], ['Wes'], ['Bol'], ['Man'], ['Har'], ['Wal'], ['Ste'], ['Lop'], ['Sal'], ['Alv'], ['Mcd'], ['Vil'], ['Mye'], ['Atk'], ['Bry'], ['Kel'], ['Mil'], ['Mat'], ['San'], ['Wil'], ['Coo'], ['Log'], ['Wil'], ['Ken'], ['Mar'], ['Gre'], ['Joh'], ['Woo'], ['Mar'], ['Joh'], ['Jon'], ['Bel'], ['Mcd'], ['Gon'], ['Har'], ['Cha'], ['Moo'], ['Car'], ['Tho'], ['Gol'], ['Mon'], ['Vaz'], ['Wil'], ['Bel'], ['Gar'], ['And'], ['Mil'], ['All'], ['Gra'], ['Bax'], ['Bar'], ['Bro'], ['Ros'], ['Mun'], ['Col'], ['Lop'], ['Irw'], ['Mor'], ['Ste'], ['Fis'], ['Dav'], ['Ram'], ['Alv'], ['Mil'], ['Cal'], ['Mey'], ['Ram'], ['Wil'], ['Gra'], ['Bro'], ['Law'], ['Bow'], ['Tho'], ['Her'], ['Cla'], ['Cha'], ['Mar'], ['War'], ['Car'], ['All'], ['Cha'], ['Per'], ['Wel'], ['Mar'], ['Sim']]\n",
            "<class 'list'>\n",
            "1\n"
          ],
          "name": "stdout"
        }
      ]
    },
    {
      "cell_type": "code",
      "metadata": {
        "colab": {
          "base_uri": "https://localhost:8080/"
        },
        "id": "GUuBm94A6sSC",
        "outputId": "47d60f42-cf0b-4472-ea5b-950b1435ce9e"
      },
      "source": [
        "# step 3: make a list of weight, open, high, close   az=stock('symbol','weight', 'open', 'high', 'close')\n",
        "\n",
        "data_list= list()    #each item= weight, open, high, close\n",
        "\n",
        "import random as ran\n",
        "from random import random\n",
        "\n",
        "open = [ran.randint(50,500) for i in range(company_count)]\n",
        "high= [t+50 for t in open]\n",
        "close=[t+20 for t in open]\n",
        "\n",
        "weight = [random() for i in range(company_count)]\n",
        "s = sum(weight)\n",
        "weight = [ i/s for i in weight ]\n",
        "\n",
        "\n",
        "for i in range(company_count):\n",
        "  data_list.append([weight[i],open[i],high[i],close[i]])\n",
        "\n",
        "\n",
        "print('open',open, 'weight',weight)\n",
        "print(type(data_list))\n",
        "print(len(data_list))\n",
        "print(len(data_list[0]))\n",
        "print((data_list))\n"
      ],
      "execution_count": 152,
      "outputs": [
        {
          "output_type": "stream",
          "text": [
            "open [436, 461, 174, 327, 448, 64, 459, 216, 455, 387, 484, 141, 98, 360, 394, 224, 297, 220, 253, 340, 355, 197, 343, 482, 168, 336, 223, 184, 420, 484, 235, 492, 463, 208, 370, 397, 149, 224, 162, 242, 271, 241, 112, 268, 486, 254, 467, 477, 91, 363, 425, 226, 439, 407, 392, 315, 67, 403, 360, 151, 51, 261, 228, 68, 369, 247, 148, 242, 118, 206, 443, 318, 257, 225, 328, 232, 473, 87, 385, 247, 94, 443, 414, 164, 80, 139, 148, 429, 413, 377, 207, 378, 161, 326, 122, 476, 116, 274, 160, 493] weight [0.020396457846833884, 0.0056347809043694646, 0.01311916159488902, 0.014555802604338898, 0.002565371208148841, 0.017186322040063554, 0.020387506447557015, 0.005524580911997239, 0.013477687835851931, 0.01029019391331587, 0.012061462801504875, 0.003580720333197454, 0.014609161499737065, 0.009110028715849545, 0.01007372577839155, 0.0009382669489976824, 0.016196001447256074, 0.01630547759453364, 0.01592597991598734, 0.0031981940056255128, 0.004171034598367152, 0.008701590282091033, 0.01061623893208121, 0.014439584269110397, 0.007028503686949934, 0.0010540265927333327, 0.0029254412632695142, 0.020354125912352545, 0.011054015065408228, 0.011896675717498301, 0.008755889596245719, 0.003903585929258255, 0.0016594873745623075, 0.008061742425587777, 0.008177519688511548, 0.01233616930749329, 0.013626909101951714, 0.011619050134984859, 0.00643995843707173, 0.01098569015090536, 0.01648453212718669, 0.01527375741220724, 0.01585655762195389, 0.0078097479254826, 0.0026964730190855465, 0.0037894109427227727, 0.007005582734878211, 0.01304279322553046, 0.007917030069436205, 0.013010226317227555, 0.012013961144566128, 0.011562921766796578, 0.009340435729712234, 0.007683868340608263, 0.007772409538584667, 0.017297568837283644, 0.019219434440405043, 0.011414022643300336, 0.007967775723910036, 0.010825055477535213, 0.01299014344284355, 0.0004550286006891082, 0.012572144962001193, 0.001110318716277148, 0.012661738920585542, 0.01321569864821451, 0.005661910523769768, 0.0019058679658979847, 0.007814260954978877, 0.005125226966354988, 0.004222060877666545, 0.005115364022195319, 0.004476646702090381, 0.00028573191423464194, 0.018944131876427187, 0.018397718495830592, 0.00593091950893338, 0.01585430502688227, 0.00782930479117567, 0.01576257132584793, 0.01968730256873624, 0.018529740930213295, 0.005312658097923067, 0.0018529736562736398, 0.003981907220701444, 0.008994436410347027, 0.00018306840311130775, 0.019200073818340685, 0.0023397803601654223, 0.008489087394433301, 0.015154158315009941, 0.009170784323857156, 0.01293980025264872, 0.002271017697531317, 0.006792032997610184, 0.018639363416774645, 0.02110400768757797, 0.014114940303664687, 0.0007587647836693177, 0.01922531926522022]\n",
            "<class 'list'>\n",
            "100\n",
            "4\n",
            "[[0.020396457846833884, 436, 486, 456], [0.0056347809043694646, 461, 511, 481], [0.01311916159488902, 174, 224, 194], [0.014555802604338898, 327, 377, 347], [0.002565371208148841, 448, 498, 468], [0.017186322040063554, 64, 114, 84], [0.020387506447557015, 459, 509, 479], [0.005524580911997239, 216, 266, 236], [0.013477687835851931, 455, 505, 475], [0.01029019391331587, 387, 437, 407], [0.012061462801504875, 484, 534, 504], [0.003580720333197454, 141, 191, 161], [0.014609161499737065, 98, 148, 118], [0.009110028715849545, 360, 410, 380], [0.01007372577839155, 394, 444, 414], [0.0009382669489976824, 224, 274, 244], [0.016196001447256074, 297, 347, 317], [0.01630547759453364, 220, 270, 240], [0.01592597991598734, 253, 303, 273], [0.0031981940056255128, 340, 390, 360], [0.004171034598367152, 355, 405, 375], [0.008701590282091033, 197, 247, 217], [0.01061623893208121, 343, 393, 363], [0.014439584269110397, 482, 532, 502], [0.007028503686949934, 168, 218, 188], [0.0010540265927333327, 336, 386, 356], [0.0029254412632695142, 223, 273, 243], [0.020354125912352545, 184, 234, 204], [0.011054015065408228, 420, 470, 440], [0.011896675717498301, 484, 534, 504], [0.008755889596245719, 235, 285, 255], [0.003903585929258255, 492, 542, 512], [0.0016594873745623075, 463, 513, 483], [0.008061742425587777, 208, 258, 228], [0.008177519688511548, 370, 420, 390], [0.01233616930749329, 397, 447, 417], [0.013626909101951714, 149, 199, 169], [0.011619050134984859, 224, 274, 244], [0.00643995843707173, 162, 212, 182], [0.01098569015090536, 242, 292, 262], [0.01648453212718669, 271, 321, 291], [0.01527375741220724, 241, 291, 261], [0.01585655762195389, 112, 162, 132], [0.0078097479254826, 268, 318, 288], [0.0026964730190855465, 486, 536, 506], [0.0037894109427227727, 254, 304, 274], [0.007005582734878211, 467, 517, 487], [0.01304279322553046, 477, 527, 497], [0.007917030069436205, 91, 141, 111], [0.013010226317227555, 363, 413, 383], [0.012013961144566128, 425, 475, 445], [0.011562921766796578, 226, 276, 246], [0.009340435729712234, 439, 489, 459], [0.007683868340608263, 407, 457, 427], [0.007772409538584667, 392, 442, 412], [0.017297568837283644, 315, 365, 335], [0.019219434440405043, 67, 117, 87], [0.011414022643300336, 403, 453, 423], [0.007967775723910036, 360, 410, 380], [0.010825055477535213, 151, 201, 171], [0.01299014344284355, 51, 101, 71], [0.0004550286006891082, 261, 311, 281], [0.012572144962001193, 228, 278, 248], [0.001110318716277148, 68, 118, 88], [0.012661738920585542, 369, 419, 389], [0.01321569864821451, 247, 297, 267], [0.005661910523769768, 148, 198, 168], [0.0019058679658979847, 242, 292, 262], [0.007814260954978877, 118, 168, 138], [0.005125226966354988, 206, 256, 226], [0.004222060877666545, 443, 493, 463], [0.005115364022195319, 318, 368, 338], [0.004476646702090381, 257, 307, 277], [0.00028573191423464194, 225, 275, 245], [0.018944131876427187, 328, 378, 348], [0.018397718495830592, 232, 282, 252], [0.00593091950893338, 473, 523, 493], [0.01585430502688227, 87, 137, 107], [0.00782930479117567, 385, 435, 405], [0.01576257132584793, 247, 297, 267], [0.01968730256873624, 94, 144, 114], [0.018529740930213295, 443, 493, 463], [0.005312658097923067, 414, 464, 434], [0.0018529736562736398, 164, 214, 184], [0.003981907220701444, 80, 130, 100], [0.008994436410347027, 139, 189, 159], [0.00018306840311130775, 148, 198, 168], [0.019200073818340685, 429, 479, 449], [0.0023397803601654223, 413, 463, 433], [0.008489087394433301, 377, 427, 397], [0.015154158315009941, 207, 257, 227], [0.009170784323857156, 378, 428, 398], [0.01293980025264872, 161, 211, 181], [0.002271017697531317, 326, 376, 346], [0.006792032997610184, 122, 172, 142], [0.018639363416774645, 476, 526, 496], [0.02110400768757797, 116, 166, 136], [0.014114940303664687, 274, 324, 294], [0.0007587647836693177, 160, 210, 180], [0.01922531926522022, 493, 543, 513]]\n"
          ],
          "name": "stdout"
        }
      ]
    },
    {
      "cell_type": "code",
      "metadata": {
        "colab": {
          "base_uri": "https://localhost:8080/"
        },
        "id": "knrXDRDN6xuk",
        "outputId": "2d8f541f-5273-4bc9-cc03-8616caecd0bc"
      },
      "source": [
        "# step4: join symbol list and data list into the stock namedtuple\n",
        "\n",
        "stock_list=list()                        # stock_list=stock('symbol','weight', 'open', 'high', 'close')\n",
        "\n",
        "for i in range(company_count):\n",
        "  stock_list.append([stock(*comp_name_sym[i],*data_list[i])])\n",
        "\n",
        "print(stock_list)"
      ],
      "execution_count": 153,
      "outputs": [
        {
          "output_type": "stream",
          "text": [
            "[[stock(symbol='Cha', weight=0.020396457846833884, open=436, high=486, close=456)], [stock(symbol='She', weight=0.0056347809043694646, open=461, high=511, close=481)], [stock(symbol='Fau', weight=0.01311916159488902, open=174, high=224, close=194)], [stock(symbol='Wag', weight=0.014555802604338898, open=327, high=377, close=347)], [stock(symbol='Cam', weight=0.002565371208148841, open=448, high=498, close=468)], [stock(symbol='Arc', weight=0.017186322040063554, open=64, high=114, close=84)], [stock(symbol='Pat', weight=0.020387506447557015, open=459, high=509, close=479)], [stock(symbol='Jon', weight=0.005524580911997239, open=216, high=266, close=236)], [stock(symbol='Gar', weight=0.013477687835851931, open=455, high=505, close=475)], [stock(symbol='Lev', weight=0.01029019391331587, open=387, high=437, close=407)], [stock(symbol='Gri', weight=0.012061462801504875, open=484, high=534, close=504)], [stock(symbol='Moo', weight=0.003580720333197454, open=141, high=191, close=161)], [stock(symbol='Sum', weight=0.014609161499737065, open=98, high=148, close=118)], [stock(symbol='Cla', weight=0.009110028715849545, open=360, high=410, close=380)], [stock(symbol='Ngu', weight=0.01007372577839155, open=394, high=444, close=414)], [stock(symbol='Wal', weight=0.0009382669489976824, open=224, high=274, close=244)], [stock(symbol='Wes', weight=0.016196001447256074, open=297, high=347, close=317)], [stock(symbol='Bol', weight=0.01630547759453364, open=220, high=270, close=240)], [stock(symbol='Man', weight=0.01592597991598734, open=253, high=303, close=273)], [stock(symbol='Har', weight=0.0031981940056255128, open=340, high=390, close=360)], [stock(symbol='Wal', weight=0.004171034598367152, open=355, high=405, close=375)], [stock(symbol='Ste', weight=0.008701590282091033, open=197, high=247, close=217)], [stock(symbol='Lop', weight=0.01061623893208121, open=343, high=393, close=363)], [stock(symbol='Sal', weight=0.014439584269110397, open=482, high=532, close=502)], [stock(symbol='Alv', weight=0.007028503686949934, open=168, high=218, close=188)], [stock(symbol='Mcd', weight=0.0010540265927333327, open=336, high=386, close=356)], [stock(symbol='Vil', weight=0.0029254412632695142, open=223, high=273, close=243)], [stock(symbol='Mye', weight=0.020354125912352545, open=184, high=234, close=204)], [stock(symbol='Atk', weight=0.011054015065408228, open=420, high=470, close=440)], [stock(symbol='Bry', weight=0.011896675717498301, open=484, high=534, close=504)], [stock(symbol='Kel', weight=0.008755889596245719, open=235, high=285, close=255)], [stock(symbol='Mil', weight=0.003903585929258255, open=492, high=542, close=512)], [stock(symbol='Mat', weight=0.0016594873745623075, open=463, high=513, close=483)], [stock(symbol='San', weight=0.008061742425587777, open=208, high=258, close=228)], [stock(symbol='Wil', weight=0.008177519688511548, open=370, high=420, close=390)], [stock(symbol='Coo', weight=0.01233616930749329, open=397, high=447, close=417)], [stock(symbol='Log', weight=0.013626909101951714, open=149, high=199, close=169)], [stock(symbol='Wil', weight=0.011619050134984859, open=224, high=274, close=244)], [stock(symbol='Ken', weight=0.00643995843707173, open=162, high=212, close=182)], [stock(symbol='Mar', weight=0.01098569015090536, open=242, high=292, close=262)], [stock(symbol='Gre', weight=0.01648453212718669, open=271, high=321, close=291)], [stock(symbol='Joh', weight=0.01527375741220724, open=241, high=291, close=261)], [stock(symbol='Woo', weight=0.01585655762195389, open=112, high=162, close=132)], [stock(symbol='Mar', weight=0.0078097479254826, open=268, high=318, close=288)], [stock(symbol='Joh', weight=0.0026964730190855465, open=486, high=536, close=506)], [stock(symbol='Jon', weight=0.0037894109427227727, open=254, high=304, close=274)], [stock(symbol='Bel', weight=0.007005582734878211, open=467, high=517, close=487)], [stock(symbol='Mcd', weight=0.01304279322553046, open=477, high=527, close=497)], [stock(symbol='Gon', weight=0.007917030069436205, open=91, high=141, close=111)], [stock(symbol='Har', weight=0.013010226317227555, open=363, high=413, close=383)], [stock(symbol='Cha', weight=0.012013961144566128, open=425, high=475, close=445)], [stock(symbol='Moo', weight=0.011562921766796578, open=226, high=276, close=246)], [stock(symbol='Car', weight=0.009340435729712234, open=439, high=489, close=459)], [stock(symbol='Tho', weight=0.007683868340608263, open=407, high=457, close=427)], [stock(symbol='Gol', weight=0.007772409538584667, open=392, high=442, close=412)], [stock(symbol='Mon', weight=0.017297568837283644, open=315, high=365, close=335)], [stock(symbol='Vaz', weight=0.019219434440405043, open=67, high=117, close=87)], [stock(symbol='Wil', weight=0.011414022643300336, open=403, high=453, close=423)], [stock(symbol='Bel', weight=0.007967775723910036, open=360, high=410, close=380)], [stock(symbol='Gar', weight=0.010825055477535213, open=151, high=201, close=171)], [stock(symbol='And', weight=0.01299014344284355, open=51, high=101, close=71)], [stock(symbol='Mil', weight=0.0004550286006891082, open=261, high=311, close=281)], [stock(symbol='All', weight=0.012572144962001193, open=228, high=278, close=248)], [stock(symbol='Gra', weight=0.001110318716277148, open=68, high=118, close=88)], [stock(symbol='Bax', weight=0.012661738920585542, open=369, high=419, close=389)], [stock(symbol='Bar', weight=0.01321569864821451, open=247, high=297, close=267)], [stock(symbol='Bro', weight=0.005661910523769768, open=148, high=198, close=168)], [stock(symbol='Ros', weight=0.0019058679658979847, open=242, high=292, close=262)], [stock(symbol='Mun', weight=0.007814260954978877, open=118, high=168, close=138)], [stock(symbol='Col', weight=0.005125226966354988, open=206, high=256, close=226)], [stock(symbol='Lop', weight=0.004222060877666545, open=443, high=493, close=463)], [stock(symbol='Irw', weight=0.005115364022195319, open=318, high=368, close=338)], [stock(symbol='Mor', weight=0.004476646702090381, open=257, high=307, close=277)], [stock(symbol='Ste', weight=0.00028573191423464194, open=225, high=275, close=245)], [stock(symbol='Fis', weight=0.018944131876427187, open=328, high=378, close=348)], [stock(symbol='Dav', weight=0.018397718495830592, open=232, high=282, close=252)], [stock(symbol='Ram', weight=0.00593091950893338, open=473, high=523, close=493)], [stock(symbol='Alv', weight=0.01585430502688227, open=87, high=137, close=107)], [stock(symbol='Mil', weight=0.00782930479117567, open=385, high=435, close=405)], [stock(symbol='Cal', weight=0.01576257132584793, open=247, high=297, close=267)], [stock(symbol='Mey', weight=0.01968730256873624, open=94, high=144, close=114)], [stock(symbol='Ram', weight=0.018529740930213295, open=443, high=493, close=463)], [stock(symbol='Wil', weight=0.005312658097923067, open=414, high=464, close=434)], [stock(symbol='Gra', weight=0.0018529736562736398, open=164, high=214, close=184)], [stock(symbol='Bro', weight=0.003981907220701444, open=80, high=130, close=100)], [stock(symbol='Law', weight=0.008994436410347027, open=139, high=189, close=159)], [stock(symbol='Bow', weight=0.00018306840311130775, open=148, high=198, close=168)], [stock(symbol='Tho', weight=0.019200073818340685, open=429, high=479, close=449)], [stock(symbol='Her', weight=0.0023397803601654223, open=413, high=463, close=433)], [stock(symbol='Cla', weight=0.008489087394433301, open=377, high=427, close=397)], [stock(symbol='Cha', weight=0.015154158315009941, open=207, high=257, close=227)], [stock(symbol='Mar', weight=0.009170784323857156, open=378, high=428, close=398)], [stock(symbol='War', weight=0.01293980025264872, open=161, high=211, close=181)], [stock(symbol='Car', weight=0.002271017697531317, open=326, high=376, close=346)], [stock(symbol='All', weight=0.006792032997610184, open=122, high=172, close=142)], [stock(symbol='Cha', weight=0.018639363416774645, open=476, high=526, close=496)], [stock(symbol='Per', weight=0.02110400768757797, open=116, high=166, close=136)], [stock(symbol='Wel', weight=0.014114940303664687, open=274, high=324, close=294)], [stock(symbol='Mar', weight=0.0007587647836693177, open=160, high=210, close=180)], [stock(symbol='Sim', weight=0.01922531926522022, open=493, high=543, close=513)]]\n"
          ],
          "name": "stdout"
        }
      ]
    },
    {
      "cell_type": "code",
      "metadata": {
        "colab": {
          "base_uri": "https://localhost:8080/"
        },
        "id": "xfug4iybfPwc",
        "outputId": "8e7c6492-77f3-4c90-b5cf-54f809960e3d"
      },
      "source": [
        "# actual calculation: \n",
        "    # 1. open price of stock market\n",
        "    # 2. high price of stock market\n",
        "    # 3. close price of stock market\n",
        "\n",
        "stockmarket_open= sum([(t[0][1]*t[0][2]) for t in stock_list])\n",
        "stockmarket_high= sum([(t[0][1]*t[0][3]) for t in stock_list])\n",
        "stockmarket_close= sum([(t[0][1]*t[0][4]) for t in stock_list])\n",
        "\n",
        "print('stockmarket_open',stockmarket_open)\n",
        "print('stockmarket_high',stockmarket_high)\n",
        "print('stockmarket_close',stockmarket_close)"
      ],
      "execution_count": 154,
      "outputs": [
        {
          "output_type": "stream",
          "text": [
            "stockmarket_open 288.89336663642035\n",
            "stockmarket_high 338.8933666364206\n",
            "stockmarket_close 308.8933666364204\n"
          ],
          "name": "stdout"
        }
      ]
    },
    {
      "cell_type": "code",
      "metadata": {
        "colab": {
          "base_uri": "https://localhost:8080/"
        },
        "id": "dgShAZVPkSiM",
        "outputId": "eaeebe71-98bd-45d7-a8cb-e0ff0b0e9dd6"
      },
      "source": [
        "end=perf_counter()\n",
        "timetaken= end- start\n",
        "print('timetaken for generating stock market overview of 100 cos: ', timetaken)"
      ],
      "execution_count": 155,
      "outputs": [
        {
          "output_type": "stream",
          "text": [
            "timetaken for generating stock market overview of 100 cos:  3.3940797329996713\n"
          ],
          "name": "stdout"
        }
      ]
    }
  ]
}