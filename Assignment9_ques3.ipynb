{
  "nbformat": 4,
  "nbformat_minor": 0,
  "metadata": {
    "colab": {
      "name": "Assignment9:ques3.ipynb",
      "provenance": []
    },
    "kernelspec": {
      "name": "python3",
      "display_name": "Python 3"
    },
    "language_info": {
      "name": "python"
    }
  },
  "cells": [
    {
      "cell_type": "markdown",
      "metadata": {
        "id": "BeJ6tU5NirWc"
      },
      "source": [
        "## Create fake data (you can use Faker for company names)for imaginary stock exchange for top 100 companies (name,symbol, open, high, close). Assign a random weight to all the companies. Calculate and show what value the stock market started at, what was the highest value during the day, and where did it end. Make sure your open, high, close are not totally random. You can only use namedtuple."
      ]
    },
    {
      "cell_type": "code",
      "metadata": {
        "id": "ZbtPyBJ4l8UJ"
      },
      "source": [
        ""
      ],
      "execution_count": null,
      "outputs": []
    },
    {
      "cell_type": "markdown",
      "metadata": {
        "id": "hi6sW-BXl8oO"
      },
      "source": [
        "steps:\n",
        "1. create a namedtuple with required fields\n",
        "2. upload a csv and store the values in a dict/ list/tuple\n",
        "3. read from (2) and store in namedtuple\n",
        "4. code to get symbol, random weight\n",
        "5. perform required calculations\n",
        "    1. starting value\n",
        "    2. highest value\n",
        "    3. ending value"
      ]
    },
    {
      "cell_type": "code",
      "metadata": {
        "id": "mSO4K1pnmTxn"
      },
      "source": [
        ""
      ],
      "execution_count": null,
      "outputs": []
    },
    {
      "cell_type": "code",
      "metadata": {
        "colab": {
          "base_uri": "https://localhost:8080/"
        },
        "id": "cdWjoql5mb8D",
        "outputId": "b278518b-72e0-4c3b-c4d6-7687f93cc91b"
      },
      "source": [
        "from collections import namedtuple\n",
        "stock= namedtuple('stock', 'symbol,weight, open, high, close')\n",
        "print(stock._fields)"
      ],
      "execution_count": 16,
      "outputs": [
        {
          "output_type": "stream",
          "text": [
            "('symbol', 'weight', 'open', 'high', 'close')\n"
          ],
          "name": "stdout"
        }
      ]
    },
    {
      "cell_type": "code",
      "metadata": {
        "id": "3b45zSud1rmF"
      },
      "source": [
        "!pip install Faker\n",
        "\n",
        "\n",
        "from collections import namedtuple\n",
        "from faker import Faker\n"
      ],
      "execution_count": null,
      "outputs": []
    },
    {
      "cell_type": "code",
      "metadata": {
        "colab": {
          "base_uri": "https://localhost:8080/"
        },
        "id": "fd-bl1Jd1mI7",
        "outputId": "60e7d588-85bf-445b-94f3-fdec656d00c9"
      },
      "source": [
        "# step1: store company names in a list\n",
        "Faker.seed(0)\n",
        "fake = Faker()\n",
        "\n",
        "comp_name=list()                            # declared a dic\n",
        "company_count=5\n",
        "\n",
        "for _ in range(company_count):\n",
        "  comp_name.append( fake.company())\n",
        "  print(comp_name)\n",
        "\n",
        "print(type(comp_name))\n",
        "print(comp_name)"
      ],
      "execution_count": 110,
      "outputs": [
        {
          "output_type": "stream",
          "text": [
            "['Chang-Fisher']\n",
            "['Chang-Fisher', 'Sheppard-Tucker']\n",
            "['Chang-Fisher', 'Sheppard-Tucker', 'Faulkner-Howard']\n",
            "['Chang-Fisher', 'Sheppard-Tucker', 'Faulkner-Howard', 'Wagner LLC']\n",
            "['Chang-Fisher', 'Sheppard-Tucker', 'Faulkner-Howard', 'Wagner LLC', 'Campos PLC']\n",
            "<class 'list'>\n",
            "['Chang-Fisher', 'Sheppard-Tucker', 'Faulkner-Howard', 'Wagner LLC', 'Campos PLC']\n"
          ],
          "name": "stdout"
        }
      ]
    },
    {
      "cell_type": "code",
      "metadata": {
        "colab": {
          "base_uri": "https://localhost:8080/"
        },
        "id": "BIdkPnyf32Le",
        "outputId": "2c5b026c-808a-4df7-e3d9-afded5056ed9"
      },
      "source": [
        "# step 2: store the stock symbols in another list\n",
        "\n",
        "comp_name_sym= list()\n",
        "                                              # comp_name_sym= [t for t in comp_name]      ----> corrent for a string, int, tuple etc.  but if each elment is itself a list then need to write t[0]\n",
        "comp_name_sym= [[t[0:3]] for t in comp_name]\n",
        "print(comp_name_sym)\n",
        "print(type(comp_name_sym[0]))\n",
        "print(len((comp_name_sym[0])))"
      ],
      "execution_count": 102,
      "outputs": [
        {
          "output_type": "stream",
          "text": [
            "[['Cha'], ['She'], ['Fau'], ['Wag'], ['Cam']]\n",
            "<class 'list'>\n",
            "1\n"
          ],
          "name": "stdout"
        }
      ]
    },
    {
      "cell_type": "code",
      "metadata": {
        "colab": {
          "base_uri": "https://localhost:8080/"
        },
        "id": "GUuBm94A6sSC",
        "outputId": "8b287320-4d4a-4fa2-aff7-f739724d6313"
      },
      "source": [
        "# step 3: make a list of weight, open, high, close   az=stock('symbol','weight', 'open', 'high', 'close')\n",
        "\n",
        "data_list= list()    #each item= weight, open, high, close\n",
        "\n",
        "import random as ran\n",
        "from random import random\n",
        "\n",
        "open = [ran.randint(50,500) for i in range(company_count)]\n",
        "high= [t+50 for t in open]\n",
        "close=[t+20 for t in open]\n",
        "\n",
        "weight = [random() for i in range(company_count)]\n",
        "s = sum(weight)\n",
        "weight = [ i/s for i in weight ]\n",
        "\n",
        "\n",
        "for i in range(company_count):\n",
        "  data_list.append([weight[i],open[i],high[i],close[i]])\n",
        "\n",
        "\n",
        "print('open',open, 'weight',weight)\n",
        "print(type(data_list))\n",
        "print(len(data_list))\n",
        "print(len(data_list[0]))\n",
        "print((data_list))\n"
      ],
      "execution_count": 93,
      "outputs": [
        {
          "output_type": "stream",
          "text": [
            "open [352, 171, 411, 320, 111] weight [0.03584656972602581, 0.2975882677665667, 0.17613685629212217, 0.23231773379206513, 0.25811057242322016]\n",
            "<class 'list'>\n",
            "5\n",
            "4\n",
            "[[0.03584656972602581, 352, 402, 372], [0.2975882677665667, 171, 221, 191], [0.17613685629212217, 411, 461, 431], [0.23231773379206513, 320, 370, 340], [0.25811057242322016, 111, 161, 131]]\n"
          ],
          "name": "stdout"
        }
      ]
    },
    {
      "cell_type": "code",
      "metadata": {
        "colab": {
          "base_uri": "https://localhost:8080/"
        },
        "id": "knrXDRDN6xuk",
        "outputId": "775d3cae-b506-4c93-efbe-514f18876142"
      },
      "source": [
        "# step4: join symbol list and data list into the stock namedtuple\n",
        "\n",
        "stock_list=list()                        # stock_list=stock('symbol','weight', 'open', 'high', 'close')\n",
        "\n",
        "for i in range(company_count):\n",
        "  stock_list.append([stock(*comp_name_sym[i],*data_list[i])])\n",
        "\n",
        "print(stock_list)"
      ],
      "execution_count": 106,
      "outputs": [
        {
          "output_type": "stream",
          "text": [
            "[[stock(symbol='Cha', weight=0.03584656972602581, open=352, high=402, close=372)], [stock(symbol='She', weight=0.2975882677665667, open=171, high=221, close=191)], [stock(symbol='Fau', weight=0.17613685629212217, open=411, high=461, close=431)], [stock(symbol='Wag', weight=0.23231773379206513, open=320, high=370, close=340)], [stock(symbol='Cam', weight=0.25811057242322016, open=111, high=161, close=131)]]\n"
          ],
          "name": "stdout"
        }
      ]
    },
    {
      "cell_type": "code",
      "metadata": {
        "colab": {
          "base_uri": "https://localhost:8080/"
        },
        "id": "xfug4iybfPwc",
        "outputId": "d6f3e79c-0586-4fa4-e273-7d031589ed06"
      },
      "source": [
        "# actual calculation: \n",
        "    # 1. open price of stock market\n",
        "    # 2. high price of stock market\n",
        "    # 3. close price of stock market\n",
        "\n",
        "stockmarket_open= sum([(t[0][1]*t[0][2]) for t in stock_list])\n",
        "stockmarket_high= sum([(t[0][1]*t[0][3]) for t in stock_list])\n",
        "stockmarket_close= sum([(t[0][1]*t[0][4]) for t in stock_list])\n",
        "\n",
        "print('stockmarket_open',stockmarket_open)\n",
        "print('stockmarket_high',stockmarket_high)\n",
        "print('stockmarket_close',stockmarket_close)"
      ],
      "execution_count": 121,
      "outputs": [
        {
          "output_type": "stream",
          "text": [
            "stockmarket_open 238.8897826201445\n",
            "stockmarket_high 288.8897826201445\n",
            "stockmarket_close 258.8897826201445\n"
          ],
          "name": "stdout"
        }
      ]
    },
    {
      "cell_type": "code",
      "metadata": {
        "colab": {
          "base_uri": "https://localhost:8080/"
        },
        "id": "p9EbdONTm7cZ",
        "outputId": "c9519c7a-4afc-4a81-df5d-d2712fab3b67"
      },
      "source": [
        "''' test'''\n",
        "\n",
        ">>> from collections import namedtuple\n",
        ">>> Row = namedtuple('Row', ['first', 'second', 'third'])\n",
        ">>> A = ['1', '2', '3']\n",
        ">>> Row._make(A)"
      ],
      "execution_count": 4,
      "outputs": [
        {
          "output_type": "execute_result",
          "data": {
            "text/plain": [
              "Row(first='1', second='2', third='3')"
            ]
          },
          "metadata": {
            "tags": []
          },
          "execution_count": 4
        }
      ]
    },
    {
      "cell_type": "code",
      "metadata": {
        "colab": {
          "base_uri": "https://localhost:8080/"
        },
        "id": "QtxSq3YRr01k",
        "outputId": "b8480c17-999b-4f6a-c82e-dbd2053eee9e"
      },
      "source": [
        "reliance= stock('rel',1, 2122, 2313, 2321)\n",
        "mukesh_ambani= reliance\n",
        "print(mukesh_ambani)\n",
        "\n",
        "# fake_profilex = namedtuple('fake_profiley', sorted(fp[0].keys()))\n",
        "\n",
        "# fake_profile_tuple={}    #-------> defined/initialized as dict\n",
        "\n",
        "# for i in range (profile_count):\n",
        "#   fake_profile_tuple[i] = fake_profilex(**fp[i])\n",
        "\n",
        "# situaltion: earlier i unpacked dict in namedtuple with names as fp[i] and thus was iterable. i can still unpack a list and get the named tuple numbers data but \n",
        "# it is difficult to store these data points in a non-iterable string (stock name). i will then need to calculate the symbol using this stock name too.!\n",
        "# so if i think step by step, \n",
        "# i can make a list to store all the stock names in [0] and symbols in [1]. then will make s list of numerical data: open, high, close\n",
        "# then, "
      ],
      "execution_count": 18,
      "outputs": [
        {
          "output_type": "stream",
          "text": [
            "stock(symbol='rel', weight=1, open=2122, high=2313, close=2321)\n"
          ],
          "name": "stdout"
        }
      ]
    }
  ]
}