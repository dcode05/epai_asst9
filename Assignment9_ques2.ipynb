{
  "nbformat": 4,
  "nbformat_minor": 0,
  "metadata": {
    "colab": {
      "name": "Assignment9:ques2.ipynb",
      "provenance": []
    },
    "kernelspec": {
      "name": "python3",
      "display_name": "Python 3"
    },
    "language_info": {
      "name": "python"
    }
  },
  "cells": [
    {
      "cell_type": "markdown",
      "metadata": {
        "id": "1Epsj05In_FI"
      },
      "source": [
        "# 10th July --- Saturday---- Assignment 9---- \n",
        "question1."
      ]
    },
    {
      "cell_type": "markdown",
      "metadata": {
        "id": "iBZudCQGoUob"
      },
      "source": [
        "# Q-2> Use the Faker (Links to an external site.)library to get 10000 random profiles. Using dictionary, calculate the largest blood type, mean-current_location, oldest_person_age, and average age (add proper doc-strings)."
      ]
    },
    {
      "cell_type": "code",
      "metadata": {
        "id": "SLZnmp-BoO0J",
        "colab": {
          "base_uri": "https://localhost:8080/"
        },
        "outputId": "0bb7c5cd-e7df-4595-b070-d6307748839f"
      },
      "source": [
        "!pip install Faker\n",
        "\n",
        "\n",
        "from collections import namedtuple\n",
        "from faker import Faker\n",
        "\n"
      ],
      "execution_count": 1,
      "outputs": [
        {
          "output_type": "stream",
          "text": [
            "Collecting Faker\n",
            "\u001b[?25l  Downloading https://files.pythonhosted.org/packages/e4/be/d03e305f1d879f541c23d586023ec11b124d6cc3d75a95159470754134d9/Faker-8.10.0-py3-none-any.whl (1.2MB)\n",
            "\r\u001b[K     |▎                               | 10kB 14.7MB/s eta 0:00:01\r\u001b[K     |▋                               | 20kB 19.9MB/s eta 0:00:01\r\u001b[K     |▉                               | 30kB 22.6MB/s eta 0:00:01\r\u001b[K     |█▏                              | 40kB 24.3MB/s eta 0:00:01\r\u001b[K     |█▍                              | 51kB 26.2MB/s eta 0:00:01\r\u001b[K     |█▊                              | 61kB 27.0MB/s eta 0:00:01\r\u001b[K     |██                              | 71kB 28.1MB/s eta 0:00:01\r\u001b[K     |██▎                             | 81kB 29.2MB/s eta 0:00:01\r\u001b[K     |██▌                             | 92kB 28.3MB/s eta 0:00:01\r\u001b[K     |██▉                             | 102kB 29.0MB/s eta 0:00:01\r\u001b[K     |███                             | 112kB 29.0MB/s eta 0:00:01\r\u001b[K     |███▍                            | 122kB 29.0MB/s eta 0:00:01\r\u001b[K     |███▋                            | 133kB 29.0MB/s eta 0:00:01\r\u001b[K     |████                            | 143kB 29.0MB/s eta 0:00:01\r\u001b[K     |████▏                           | 153kB 29.0MB/s eta 0:00:01\r\u001b[K     |████▌                           | 163kB 29.0MB/s eta 0:00:01\r\u001b[K     |████▊                           | 174kB 29.0MB/s eta 0:00:01\r\u001b[K     |█████                           | 184kB 29.0MB/s eta 0:00:01\r\u001b[K     |█████▎                          | 194kB 29.0MB/s eta 0:00:01\r\u001b[K     |█████▋                          | 204kB 29.0MB/s eta 0:00:01\r\u001b[K     |█████▉                          | 215kB 29.0MB/s eta 0:00:01\r\u001b[K     |██████▏                         | 225kB 29.0MB/s eta 0:00:01\r\u001b[K     |██████▍                         | 235kB 29.0MB/s eta 0:00:01\r\u001b[K     |██████▊                         | 245kB 29.0MB/s eta 0:00:01\r\u001b[K     |███████                         | 256kB 29.0MB/s eta 0:00:01\r\u001b[K     |███████▎                        | 266kB 29.0MB/s eta 0:00:01\r\u001b[K     |███████▌                        | 276kB 29.0MB/s eta 0:00:01\r\u001b[K     |███████▉                        | 286kB 29.0MB/s eta 0:00:01\r\u001b[K     |████████                        | 296kB 29.0MB/s eta 0:00:01\r\u001b[K     |████████▍                       | 307kB 29.0MB/s eta 0:00:01\r\u001b[K     |████████▊                       | 317kB 29.0MB/s eta 0:00:01\r\u001b[K     |█████████                       | 327kB 29.0MB/s eta 0:00:01\r\u001b[K     |█████████▎                      | 337kB 29.0MB/s eta 0:00:01\r\u001b[K     |█████████▌                      | 348kB 29.0MB/s eta 0:00:01\r\u001b[K     |█████████▉                      | 358kB 29.0MB/s eta 0:00:01\r\u001b[K     |██████████                      | 368kB 29.0MB/s eta 0:00:01\r\u001b[K     |██████████▍                     | 378kB 29.0MB/s eta 0:00:01\r\u001b[K     |██████████▋                     | 389kB 29.0MB/s eta 0:00:01\r\u001b[K     |███████████                     | 399kB 29.0MB/s eta 0:00:01\r\u001b[K     |███████████▏                    | 409kB 29.0MB/s eta 0:00:01\r\u001b[K     |███████████▌                    | 419kB 29.0MB/s eta 0:00:01\r\u001b[K     |███████████▊                    | 430kB 29.0MB/s eta 0:00:01\r\u001b[K     |████████████                    | 440kB 29.0MB/s eta 0:00:01\r\u001b[K     |████████████▎                   | 450kB 29.0MB/s eta 0:00:01\r\u001b[K     |████████████▋                   | 460kB 29.0MB/s eta 0:00:01\r\u001b[K     |████████████▉                   | 471kB 29.0MB/s eta 0:00:01\r\u001b[K     |█████████████▏                  | 481kB 29.0MB/s eta 0:00:01\r\u001b[K     |█████████████▍                  | 491kB 29.0MB/s eta 0:00:01\r\u001b[K     |█████████████▊                  | 501kB 29.0MB/s eta 0:00:01\r\u001b[K     |██████████████                  | 512kB 29.0MB/s eta 0:00:01\r\u001b[K     |██████████████▎                 | 522kB 29.0MB/s eta 0:00:01\r\u001b[K     |██████████████▌                 | 532kB 29.0MB/s eta 0:00:01\r\u001b[K     |██████████████▉                 | 542kB 29.0MB/s eta 0:00:01\r\u001b[K     |███████████████                 | 552kB 29.0MB/s eta 0:00:01\r\u001b[K     |███████████████▍                | 563kB 29.0MB/s eta 0:00:01\r\u001b[K     |███████████████▋                | 573kB 29.0MB/s eta 0:00:01\r\u001b[K     |████████████████                | 583kB 29.0MB/s eta 0:00:01\r\u001b[K     |████████████████▏               | 593kB 29.0MB/s eta 0:00:01\r\u001b[K     |████████████████▌               | 604kB 29.0MB/s eta 0:00:01\r\u001b[K     |████████████████▉               | 614kB 29.0MB/s eta 0:00:01\r\u001b[K     |█████████████████               | 624kB 29.0MB/s eta 0:00:01\r\u001b[K     |█████████████████▍              | 634kB 29.0MB/s eta 0:00:01\r\u001b[K     |█████████████████▋              | 645kB 29.0MB/s eta 0:00:01\r\u001b[K     |██████████████████              | 655kB 29.0MB/s eta 0:00:01\r\u001b[K     |██████████████████▏             | 665kB 29.0MB/s eta 0:00:01\r\u001b[K     |██████████████████▌             | 675kB 29.0MB/s eta 0:00:01\r\u001b[K     |██████████████████▊             | 686kB 29.0MB/s eta 0:00:01\r\u001b[K     |███████████████████             | 696kB 29.0MB/s eta 0:00:01\r\u001b[K     |███████████████████▎            | 706kB 29.0MB/s eta 0:00:01\r\u001b[K     |███████████████████▋            | 716kB 29.0MB/s eta 0:00:01\r\u001b[K     |███████████████████▉            | 727kB 29.0MB/s eta 0:00:01\r\u001b[K     |████████████████████▏           | 737kB 29.0MB/s eta 0:00:01\r\u001b[K     |████████████████████▍           | 747kB 29.0MB/s eta 0:00:01\r\u001b[K     |████████████████████▊           | 757kB 29.0MB/s eta 0:00:01\r\u001b[K     |█████████████████████           | 768kB 29.0MB/s eta 0:00:01\r\u001b[K     |█████████████████████▎          | 778kB 29.0MB/s eta 0:00:01\r\u001b[K     |█████████████████████▌          | 788kB 29.0MB/s eta 0:00:01\r\u001b[K     |█████████████████████▉          | 798kB 29.0MB/s eta 0:00:01\r\u001b[K     |██████████████████████          | 808kB 29.0MB/s eta 0:00:01\r\u001b[K     |██████████████████████▍         | 819kB 29.0MB/s eta 0:00:01\r\u001b[K     |██████████████████████▋         | 829kB 29.0MB/s eta 0:00:01\r\u001b[K     |███████████████████████         | 839kB 29.0MB/s eta 0:00:01\r\u001b[K     |███████████████████████▏        | 849kB 29.0MB/s eta 0:00:01\r\u001b[K     |███████████████████████▌        | 860kB 29.0MB/s eta 0:00:01\r\u001b[K     |███████████████████████▊        | 870kB 29.0MB/s eta 0:00:01\r\u001b[K     |████████████████████████        | 880kB 29.0MB/s eta 0:00:01\r\u001b[K     |████████████████████████▎       | 890kB 29.0MB/s eta 0:00:01\r\u001b[K     |████████████████████████▋       | 901kB 29.0MB/s eta 0:00:01\r\u001b[K     |████████████████████████▉       | 911kB 29.0MB/s eta 0:00:01\r\u001b[K     |█████████████████████████▏      | 921kB 29.0MB/s eta 0:00:01\r\u001b[K     |█████████████████████████▌      | 931kB 29.0MB/s eta 0:00:01\r\u001b[K     |█████████████████████████▊      | 942kB 29.0MB/s eta 0:00:01\r\u001b[K     |██████████████████████████      | 952kB 29.0MB/s eta 0:00:01\r\u001b[K     |██████████████████████████▎     | 962kB 29.0MB/s eta 0:00:01\r\u001b[K     |██████████████████████████▋     | 972kB 29.0MB/s eta 0:00:01\r\u001b[K     |██████████████████████████▉     | 983kB 29.0MB/s eta 0:00:01\r\u001b[K     |███████████████████████████▏    | 993kB 29.0MB/s eta 0:00:01\r\u001b[K     |███████████████████████████▍    | 1.0MB 29.0MB/s eta 0:00:01\r\u001b[K     |███████████████████████████▊    | 1.0MB 29.0MB/s eta 0:00:01\r\u001b[K     |████████████████████████████    | 1.0MB 29.0MB/s eta 0:00:01\r\u001b[K     |████████████████████████████▎   | 1.0MB 29.0MB/s eta 0:00:01\r\u001b[K     |████████████████████████████▌   | 1.0MB 29.0MB/s eta 0:00:01\r\u001b[K     |████████████████████████████▉   | 1.1MB 29.0MB/s eta 0:00:01\r\u001b[K     |█████████████████████████████   | 1.1MB 29.0MB/s eta 0:00:01\r\u001b[K     |█████████████████████████████▍  | 1.1MB 29.0MB/s eta 0:00:01\r\u001b[K     |█████████████████████████████▋  | 1.1MB 29.0MB/s eta 0:00:01\r\u001b[K     |██████████████████████████████  | 1.1MB 29.0MB/s eta 0:00:01\r\u001b[K     |██████████████████████████████▏ | 1.1MB 29.0MB/s eta 0:00:01\r\u001b[K     |██████████████████████████████▌ | 1.1MB 29.0MB/s eta 0:00:01\r\u001b[K     |██████████████████████████████▊ | 1.1MB 29.0MB/s eta 0:00:01\r\u001b[K     |███████████████████████████████ | 1.1MB 29.0MB/s eta 0:00:01\r\u001b[K     |███████████████████████████████▎| 1.1MB 29.0MB/s eta 0:00:01\r\u001b[K     |███████████████████████████████▋| 1.2MB 29.0MB/s eta 0:00:01\r\u001b[K     |███████████████████████████████▉| 1.2MB 29.0MB/s eta 0:00:01\r\u001b[K     |████████████████████████████████| 1.2MB 29.0MB/s \n",
            "\u001b[?25hRequirement already satisfied: text-unidecode==1.3 in /usr/local/lib/python3.7/dist-packages (from Faker) (1.3)\n",
            "Requirement already satisfied: python-dateutil>=2.4 in /usr/local/lib/python3.7/dist-packages (from Faker) (2.8.1)\n",
            "Requirement already satisfied: six>=1.5 in /usr/local/lib/python3.7/dist-packages (from python-dateutil>=2.4->Faker) (1.15.0)\n",
            "Installing collected packages: Faker\n",
            "Successfully installed Faker-8.10.0\n"
          ],
          "name": "stdout"
        }
      ]
    },
    {
      "cell_type": "code",
      "metadata": {
        "colab": {
          "base_uri": "https://localhost:8080/"
        },
        "id": "O9ZCXJ2Jr4I4",
        "outputId": "22015d01-45b1-4557-876c-01965b3d1299"
      },
      "source": [
        "Faker.seed(0)\n",
        "fake = Faker()\n",
        "\n",
        "fp={}                            # declared a dic\n",
        "profile_count=9\n",
        "\n",
        "for i in range(profile_count):\n",
        "  fp[i]=fake.profile()           # output dict\n",
        "  print(fp[i])\n",
        "  \n",
        "print(type(fp))\n"
      ],
      "execution_count": 2,
      "outputs": [
        {
          "output_type": "stream",
          "text": [
            "{'job': 'Musician', 'company': 'Williams-Sheppard', 'ssn': '498-52-4970', 'residence': 'Unit 5938 Box 2421\\nDPO AP 33335', 'current_location': (Decimal('52.958961'), Decimal('143.143712')), 'blood_group': 'B+', 'website': ['http://www.rivera.com/', 'http://grimes-green.net/', 'http://www.larsen.com/'], 'username': 'leeashley', 'name': 'Gary Cross', 'sex': 'M', 'address': '711 Golden Overpass\\nWest Andreaville, MA 71317', 'mail': 'tamaramorrison@hotmail.com', 'birthdate': datetime.date(1944, 9, 2)}\n",
            "{'job': 'Producer, television/film/video', 'company': 'Carlson Group', 'ssn': '325-74-3967', 'residence': '09471 Erika Curve\\nNorth Megan, UT 71358', 'current_location': (Decimal('15.037732'), Decimal('101.628490')), 'blood_group': 'AB+', 'website': ['http://hill.com/', 'http://wilson.com/'], 'username': 'laura56', 'name': 'Denise Thornton', 'sex': 'F', 'address': '30989 Anthony Roads\\nNew Maria, MO 12498', 'mail': 'martha10@hotmail.com', 'birthdate': datetime.date(1908, 6, 19)}\n",
            "{'job': 'Engineer, broadcasting (operations)', 'company': 'Robbins Group', 'ssn': '216-94-1001', 'residence': 'USS Stephens\\nFPO AP 13804', 'current_location': (Decimal('-20.228286'), Decimal('-142.416727')), 'blood_group': 'B-', 'website': ['https://white-gordon.com/'], 'username': 'kmassey', 'name': 'Jeanne Green', 'sex': 'F', 'address': '22584 Candice Mills\\nNorth Thomas, OK 67164', 'mail': 'deborah64@gmail.com', 'birthdate': datetime.date(1981, 10, 26)}\n",
            "{'job': 'Administrator, charities/voluntary organisations', 'company': 'Harmon-Rogers', 'ssn': '047-70-4602', 'residence': '9459 Jennifer Loaf Suite 109\\nLake Matthew, IN 84046', 'current_location': (Decimal('30.2954115'), Decimal('23.285134')), 'blood_group': 'O+', 'website': ['https://fletcher.com/'], 'username': 'hensontroy', 'name': 'John Hoffman', 'sex': 'M', 'address': '63812 Richard Springs Suite 503\\nLake Karenhaven, CT 25464', 'mail': 'franklinjames@yahoo.com', 'birthdate': datetime.date(1943, 8, 18)}\n",
            "{'job': 'Education officer, environmental', 'company': 'Alvarez Group', 'ssn': '643-11-0358', 'residence': '42851 Joshua Brook Apt. 034\\nStaceyshire, AZ 98691', 'current_location': (Decimal('73.100442'), Decimal('171.844720')), 'blood_group': 'O-', 'website': ['https://thompson.com/', 'http://morgan-richardson.com/', 'https://www.nelson.org/', 'https://hays-anderson.com/'], 'username': 'turnermary', 'name': 'Timothy Parker', 'sex': 'M', 'address': '87755 Timothy Squares\\nSimmonsport, WA 90561', 'mail': 'samanthasims@yahoo.com', 'birthdate': datetime.date(2015, 3, 27)}\n",
            "{'job': 'Chartered loss adjuster', 'company': 'Morton and Sons', 'ssn': '768-29-1002', 'residence': '8847 Kramer Station\\nSouth Christopher, KS 77208', 'current_location': (Decimal('-45.2837235'), Decimal('51.510024')), 'blood_group': 'B-', 'website': ['http://www.johnson.com/', 'http://scott-davidson.com/', 'http://www.ellis.net/'], 'username': 'blittle', 'name': 'Linda Freeman', 'sex': 'F', 'address': '577 Amy Forges Apt. 555\\nNew Eddieview, WY 20935', 'mail': 'taguilar@hotmail.com', 'birthdate': datetime.date(2015, 5, 12)}\n",
            "{'job': 'Psychotherapist, dance movement', 'company': 'Marsh PLC', 'ssn': '890-06-1088', 'residence': '0752 Misty Mount\\nWilliamhaven, AZ 75719', 'current_location': (Decimal('-65.6671615'), Decimal('98.098248')), 'blood_group': 'A-', 'website': ['http://santana.biz/', 'http://www.mcclure.org/', 'https://snyder.com/', 'https://brown-davidson.com/'], 'username': 'olsondonald', 'name': 'Sandra Brown', 'sex': 'F', 'address': '256 Cheryl Lights\\nWilliamsfort, FL 03152', 'mail': 'georgedavid@yahoo.com', 'birthdate': datetime.date(1919, 11, 8)}\n",
            "{'job': 'Stage manager', 'company': 'Reed, Reyes and Frank', 'ssn': '503-15-0986', 'residence': '519 Kramer Crossroad Suite 418\\nNorth Kimberly, MN 99672', 'current_location': (Decimal('-38.869070'), Decimal('64.528721')), 'blood_group': 'AB-', 'website': ['http://www.scott-johnson.net/'], 'username': 'hhunter', 'name': 'Paula Wilkerson', 'sex': 'F', 'address': '16116 Jessica Burgs Suite 660\\nCalhounmouth, KS 10795', 'mail': 'chad50@yahoo.com', 'birthdate': datetime.date(1952, 11, 13)}\n",
            "{'job': 'Editor, magazine features', 'company': 'Greer and Sons', 'ssn': '839-47-1156', 'residence': '03104 Norris Rapids\\nPort Donald, DE 62982', 'current_location': (Decimal('2.462487'), Decimal('-41.369813')), 'blood_group': 'B+', 'website': ['http://kennedy-carter.net/'], 'username': 'eric22', 'name': 'Willie Garcia', 'sex': 'M', 'address': '332 Watson Shore Apt. 290\\nMillerland, MT 39742', 'mail': 'jyang@hotmail.com', 'birthdate': datetime.date(1962, 12, 25)}\n",
            "<class 'dict'>\n"
          ],
          "name": "stdout"
        }
      ]
    },
    {
      "cell_type": "markdown",
      "metadata": {
        "id": "IKsmSDBm30cw"
      },
      "source": [
        "---------------------------------------------------------------------------------------------=------------------------------------------------------------------"
      ]
    },
    {
      "cell_type": "markdown",
      "metadata": {
        "id": "moge-99w3x8O"
      },
      "source": [
        "# Part1 of Question 2: largest bloodtype\n",
        "\n",
        "step1:create dictionary from list of dictionaries OR\n",
        "step1: let it be as it is and work on it?\n",
        "\n",
        "step2: make a dict with bloodtype of all entries OR\n",
        "step2: write a function that compares values on each dict as it is now --- seems faster so will follow this?\n",
        "\n",
        "how to access a particular value from its key?\n",
        "'''"
      ]
    },
    {
      "cell_type": "code",
      "metadata": {
        "colab": {
          "base_uri": "https://localhost:8080/"
        },
        "id": "cTniJOrax4f-",
        "outputId": "686303fd-0982-47be-d952-a4698311d617"
      },
      "source": [
        "''' QUESTION: How to access a particular value from its key?------------- SOLUTION BELOW-----------------------'''\n",
        "\n",
        "\n",
        "# for fp_ in fp[0].values():                       # fails  TypeError: string indices must be integers\n",
        "#   print(fp_)\n",
        "#   for item in fp_:\n",
        "#     print(item['blood_group'])\n",
        "\n",
        "# for i in range(profile_count):                        # works\n",
        "#   print( fp[i][\"blood_group\"])\n",
        "\n",
        "# result = list()                                                # fails TypeError: string indices must be integers\n",
        "# for key in fp[0]:\n",
        "#     for x in fp[0][key]:\n",
        "#         result.append(x[\"blood_group\"])  \n",
        "\n",
        "result=list()\n",
        "for i in range(profile_count):                        # works\n",
        "  result.append(fp[i][\"blood_group\"])\n",
        "\n",
        "print(result) \n",
        "\n",
        "\n",
        "''' simple, fast and elegant: will continue to use this method to extract value over multiple dicts and store in a list.  Then work on that list to extract final info'''\n"
      ],
      "execution_count": 52,
      "outputs": [
        {
          "output_type": "stream",
          "text": [
            "['B+', 'AB+', 'B-', 'O+', 'O-', 'B-', 'A-', 'AB-', 'B+']\n"
          ],
          "name": "stdout"
        }
      ]
    },
    {
      "cell_type": "code",
      "metadata": {
        "colab": {
          "base_uri": "https://localhost:8080/"
        },
        "id": "MIzDmHBOZNwU",
        "outputId": "cbc2e60a-5c1a-4151-8b5e-de9301edc9a5"
      },
      "source": [
        "# CODE TO FIND INDEX OF A PARTICULAR VALUE GIVEN THE SEARCH KEY ----- --------- WORKS-------------\n",
        "\n",
        "print(fp[0])\n",
        "\n",
        "search_key= 'blood_group'\n",
        "\n",
        "index_key = list(fp[0].keys()).index(search_key)\n",
        "\n",
        "print(index_key)     \n"
      ],
      "execution_count": 3,
      "outputs": [
        {
          "output_type": "stream",
          "text": [
            "{'job': 'Musician', 'company': 'Williams-Sheppard', 'ssn': '498-52-4970', 'residence': 'Unit 5938 Box 2421\\nDPO AP 33335', 'current_location': (Decimal('52.958961'), Decimal('143.143712')), 'blood_group': 'B+', 'website': ['http://www.rivera.com/', 'http://grimes-green.net/', 'http://www.larsen.com/'], 'username': 'leeashley', 'name': 'Gary Cross', 'sex': 'M', 'address': '711 Golden Overpass\\nWest Andreaville, MA 71317', 'mail': 'tamaramorrison@hotmail.com', 'birthdate': datetime.date(1944, 9, 2)}\n",
            "5\n"
          ],
          "name": "stdout"
        }
      ]
    },
    {
      "cell_type": "code",
      "metadata": {
        "colab": {
          "base_uri": "https://localhost:8080/"
        },
        "id": "sWmApTjhn7tV",
        "outputId": "3a43a0ed-519c-46d5-b443-39cd80acd263"
      },
      "source": [
        "'''-----TEST------ WORKS----- BUT TRICKY & DIFFICULT TO ENSURE EXACT FORMATTING WHILE ITERATING OVER MULTIPLE INDEPENDEND DICTS.-------------'''\n",
        "\n",
        "# creating dict of dicts:\n",
        "# iterating through the combined dict extracting values of a particular key\n",
        "\n",
        "z=dict(a=1, b=3,v=5)\n",
        "zz=dict(a=11, ab=31,av=15)\n",
        "\n",
        "y= {'z1': [z], 'zz1':[zz]} \n",
        "                        # type(y)  ----> dict\n",
        "# print(y)\n",
        "# print(z)\n",
        "\n",
        "for y_ in y.values():\n",
        "  print(y_)\n",
        "  for item in y_:\n",
        "    print(item['a'])\n",
        "\n",
        "''' ----SO WILL AVOID MAKING DICTS OF DICTS IN FUTURE AND WILL ITERATE OVER INDIVIDUAL DICTS IN A LOOP AND EXTRACT KEYS/VALUES ------'''"
      ],
      "execution_count": 42,
      "outputs": [
        {
          "output_type": "stream",
          "text": [
            "[{'a': 1, 'b': 3, 'v': 5}]\n",
            "1\n",
            "[{'a': 11, 'ab': 31, 'av': 15}]\n",
            "11\n"
          ],
          "name": "stdout"
        }
      ]
    },
    {
      "cell_type": "code",
      "metadata": {
        "colab": {
          "base_uri": "https://localhost:8080/"
        },
        "id": "ntkkgAGLpzrY",
        "outputId": "3f7d62b4-4b75-450f-f2db-6d10358c5c7e"
      },
      "source": [
        "''' -------------------- TEST BLOCK: STACK OVERFLOW--------------EVERYTHING BELOW WORKS! --------------------'''\n",
        "\n",
        "d={'project-1': [{'id':'1','name':'john'},{'id':'20','name':'steve'}], 'project-2': [{'id':'6','name':'jack'},{'id':'42','name':'anna'}]}\n",
        "\n",
        "print(type(d))\n",
        "print(len(d))\n",
        "\n",
        "\n",
        "for d_ in d.values(): \n",
        "    print(d_)\n",
        "    for item in d_:\n",
        "        print (item['name'])\n",
        "\n",
        "\n",
        "result = list()\n",
        "for key in d:\n",
        "    for x in d[key]:\n",
        "        result.append(x['name'])       \n",
        "\n",
        "print(result )"
      ],
      "execution_count": 56,
      "outputs": [
        {
          "output_type": "stream",
          "text": [
            "<class 'dict'>\n",
            "2\n",
            "[{'id': '1', 'name': 'john'}, {'id': '20', 'name': 'steve'}]\n",
            "john\n",
            "steve\n",
            "[{'id': '6', 'name': 'jack'}, {'id': '42', 'name': 'anna'}]\n",
            "jack\n",
            "anna\n",
            "['john', 'steve', 'jack', 'anna']\n"
          ],
          "name": "stdout"
        }
      ]
    },
    {
      "cell_type": "code",
      "metadata": {
        "colab": {
          "base_uri": "https://localhost:8080/",
          "height": 52
        },
        "id": "U30cfVSf57_E",
        "outputId": "e97f0733-46c6-4224-b1a5-79e50b1835f6"
      },
      "source": [
        "#----------FINAL CALCULATION OF LARGEST BLOOD TYPE--------------- works\n",
        "\n",
        "blood_group_list=list()\n",
        "for i in range(profile_count):                        \n",
        "  blood_group_list.append(fp[i][\"blood_group\"])\n",
        "\n",
        "print(blood_group_list) \n",
        "\n",
        "def most_frequent(List):\n",
        "    return max(set(List), key = List.count)\n",
        "\n",
        "most_frequent(blood_group_list)"
      ],
      "execution_count": 62,
      "outputs": [
        {
          "output_type": "stream",
          "text": [
            "['B+', 'AB+', 'B-', 'O+', 'O-', 'B-', 'A-', 'AB-', 'B+']\n"
          ],
          "name": "stdout"
        },
        {
          "output_type": "execute_result",
          "data": {
            "application/vnd.google.colaboratory.intrinsic+json": {
              "type": "string"
            },
            "text/plain": [
              "'B-'"
            ]
          },
          "metadata": {
            "tags": []
          },
          "execution_count": 62
        }
      ]
    },
    {
      "cell_type": "markdown",
      "metadata": {
        "id": "ERi-pNc27CvZ"
      },
      "source": [
        "# Part2 of Question 2: Mean current location"
      ]
    },
    {
      "cell_type": "code",
      "metadata": {
        "colab": {
          "base_uri": "https://localhost:8080/"
        },
        "id": "gAYjHLOk7gII",
        "outputId": "6b4d40e4-d59c-49a9-b663-d68125ad3725"
      },
      "source": [
        "print(fp[0])"
      ],
      "execution_count": 61,
      "outputs": [
        {
          "output_type": "stream",
          "text": [
            "{'job': 'Musician', 'company': 'Williams-Sheppard', 'ssn': '498-52-4970', 'residence': 'Unit 5938 Box 2421\\nDPO AP 33335', 'current_location': (Decimal('52.958961'), Decimal('143.143712')), 'blood_group': 'B+', 'website': ['http://www.rivera.com/', 'http://grimes-green.net/', 'http://www.larsen.com/'], 'username': 'leeashley', 'name': 'Gary Cross', 'sex': 'M', 'address': '711 Golden Overpass\\nWest Andreaville, MA 71317', 'mail': 'tamaramorrison@hotmail.com', 'birthdate': datetime.date(1944, 9, 2)}\n"
          ],
          "name": "stdout"
        }
      ]
    },
    {
      "cell_type": "code",
      "metadata": {
        "colab": {
          "base_uri": "https://localhost:8080/"
        },
        "id": "Rk7rpKsW7mkf",
        "outputId": "77262767-d777-4cc1-a81f-aab8de4be27d"
      },
      "source": [
        "current_location_list=list()\n",
        "for i in range(profile_count):                        \n",
        "  current_location_list.append(fp[i][\"current_location\"])\n",
        "\n",
        "print(current_location_list)"
      ],
      "execution_count": 63,
      "outputs": [
        {
          "output_type": "stream",
          "text": [
            "[(Decimal('52.958961'), Decimal('143.143712')), (Decimal('15.037732'), Decimal('101.628490')), (Decimal('-20.228286'), Decimal('-142.416727')), (Decimal('30.2954115'), Decimal('23.285134')), (Decimal('73.100442'), Decimal('171.844720')), (Decimal('-45.2837235'), Decimal('51.510024')), (Decimal('-65.6671615'), Decimal('98.098248')), (Decimal('-38.869070'), Decimal('64.528721')), (Decimal('2.462487'), Decimal('-41.369813'))]\n"
          ],
          "name": "stdout"
        }
      ]
    },
    {
      "cell_type": "code",
      "metadata": {
        "colab": {
          "base_uri": "https://localhost:8080/"
        },
        "id": "99hDrliI8KGW",
        "outputId": "0a40cb9b-b0c8-4cd5-87c6-72bfcf5a653a"
      },
      "source": [
        "# type(current_location_list)         -----> list\n",
        "# type(current_location_list[0])         -----> tuple\n",
        "\n",
        "# so i have to do tuple averaging\n",
        "\n",
        "mean_location= sum(t[0] for t in current_location_list)/profile_count, sum(t[1] for t in current_location_list)/profile_count\n",
        "mean_location"
      ],
      "execution_count": 72,
      "outputs": [
        {
          "output_type": "execute_result",
          "data": {
            "text/plain": [
              "(Decimal('0.4229769444444444444444444444'),\n",
              " Decimal('52.25027877777777777777777778'))"
            ]
          },
          "metadata": {
            "tags": []
          },
          "execution_count": 72
        }
      ]
    },
    {
      "cell_type": "markdown",
      "metadata": {
        "id": "2YwC4vWZ-zd1"
      },
      "source": [
        "## Part3 of Question 2: oldest_person_age"
      ]
    },
    {
      "cell_type": "code",
      "metadata": {
        "colab": {
          "base_uri": "https://localhost:8080/"
        },
        "id": "3xRQPKG2_Tdr",
        "outputId": "65162ac5-35e5-41af-92d7-0b814c0a4db4"
      },
      "source": [
        "print(fp[0])"
      ],
      "execution_count": 76,
      "outputs": [
        {
          "output_type": "stream",
          "text": [
            "{'job': 'Musician', 'company': 'Williams-Sheppard', 'ssn': '498-52-4970', 'residence': 'Unit 5938 Box 2421\\nDPO AP 33335', 'current_location': (Decimal('52.958961'), Decimal('143.143712')), 'blood_group': 'B+', 'website': ['http://www.rivera.com/', 'http://grimes-green.net/', 'http://www.larsen.com/'], 'username': 'leeashley', 'name': 'Gary Cross', 'sex': 'M', 'address': '711 Golden Overpass\\nWest Andreaville, MA 71317', 'mail': 'tamaramorrison@hotmail.com', 'birthdate': datetime.date(1944, 9, 2)}\n"
          ],
          "name": "stdout"
        }
      ]
    },
    {
      "cell_type": "code",
      "metadata": {
        "colab": {
          "base_uri": "https://localhost:8080/"
        },
        "id": "ZP7GwbM4_e-k",
        "outputId": "d51aa87f-98b5-4247-d380-8be42f8b93c7"
      },
      "source": [
        "birthdate_list=list()\n",
        "for i in range(profile_count):                        \n",
        "  birthdate_list.append(fp[i][\"birthdate\"])\n",
        "\n",
        "print(birthdate_list)"
      ],
      "execution_count": 77,
      "outputs": [
        {
          "output_type": "stream",
          "text": [
            "[datetime.date(1944, 9, 2), datetime.date(1908, 6, 19), datetime.date(1981, 10, 26), datetime.date(1943, 8, 18), datetime.date(2015, 3, 27), datetime.date(2015, 5, 12), datetime.date(1919, 11, 8), datetime.date(1952, 11, 13), datetime.date(1962, 12, 25)]\n"
          ],
          "name": "stdout"
        }
      ]
    },
    {
      "cell_type": "code",
      "metadata": {
        "colab": {
          "base_uri": "https://localhost:8080/"
        },
        "id": "SHca7L-Z_quX",
        "outputId": "3fe14050-9bb3-4763-fd0f-10287c7bbe8b"
      },
      "source": [
        "import datetime\n",
        "\n",
        "oldest=min( birthdate_list )\n",
        "age_oldest= datetime.date.today() - oldest \n",
        "index_oldest=birthdate_list.index(oldest)\n",
        "\n",
        "print(oldest)\n",
        "print(age_oldest)\n",
        "print(index_oldest)\n"
      ],
      "execution_count": 83,
      "outputs": [
        {
          "output_type": "stream",
          "text": [
            "1908-06-19\n",
            "41294 days, 0:00:00\n",
            "1\n"
          ],
          "name": "stdout"
        }
      ]
    },
    {
      "cell_type": "markdown",
      "metadata": {
        "id": "jT7XmRdRBT5w"
      },
      "source": [
        "## Part4 of Question 2: average age"
      ]
    },
    {
      "cell_type": "code",
      "metadata": {
        "colab": {
          "base_uri": "https://localhost:8080/"
        },
        "id": "jAd1oQryBcsC",
        "outputId": "e6d526db-f8dc-4fa4-bafa-74785cbfffc7"
      },
      "source": [
        "age=  [ datetime.date.today()-t for t in birthdate_list ]\n",
        "\n",
        "# average_age= sum(age)  ----->  TypeError: unsupported operand type(s) for +: 'int' and 'list'    coz sum() only works on 'iterable int'\n",
        "age_total= age[0]\n",
        "for i in range(profile_count-1):\n",
        "  age_total+= age[i+1]\n",
        "age_average= age_total/ len(age)  \n",
        "print(age_average)\n",
        "\n",
        "# za= [3,4,5,6,67]\n",
        "# sum(za)\n",
        "# zaz= [t for t in za] \n",
        "# print(zaz)"
      ],
      "execution_count": 108,
      "outputs": [
        {
          "output_type": "stream",
          "text": [
            "22273 days, 2:40:00\n"
          ],
          "name": "stdout"
        }
      ]
    }
  ]
}